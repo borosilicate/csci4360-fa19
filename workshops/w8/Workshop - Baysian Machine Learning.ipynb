{
 "cells": [
  {
   "cell_type": "code",
   "execution_count": null,
   "metadata": {},
   "outputs": [],
   "source": [
    "from __future__ import absolute_import\n",
    "from __future__ import division\n",
    "from __future__ import print_function\n",
    "%matplotlib inline\n",
    "\n",
    "#import sys\n",
    "#sys.setrecursionlimit(20000)\n",
    "\n",
    "import edward as ed\n",
    "import matplotlib.pyplot as plt\n",
    "import matplotlib.cm as cm\n",
    "from matplotlib.colors import ListedColormap, Normalize\n",
    "from matplotlib.animation import FuncAnimation\n",
    "from tempfile import NamedTemporaryFile\n",
    "from IPython.display import HTML\n",
    "import seaborn as sns\n",
    "import numpy as np\n",
    "import six\n",
    "import tensorflow as tf\n",
    "\n",
    "#################################\n",
    "import tensorflow_probability\n",
    "import keras\n",
    "#import edward2##################\n",
    "\n",
    "plt.style.use('seaborn-talk')\n",
    "sns.set_context(\"talk\", font_scale=1.4)\n",
    "sns.set_palette(\"colorblind\")\n",
    "sess = ed.get_session()\n",
    "#sess = tf.compat.v1.Session()###########\n",
    "\n",
    "sns.palplot(sns.color_palette())"
   ]
  },
  {
   "cell_type": "code",
   "execution_count": null,
   "metadata": {},
   "outputs": [],
   "source": [
    "# this can be done only before using Edward\n",
    "ed.set_seed(42)"
   ]
  },
  {
   "cell_type": "code",
   "execution_count": null,
   "metadata": {},
   "outputs": [],
   "source": [
    "VIDEO_TAG = \"\"\"<video controls>\n",
    " <source src=\"data:video/x-m4v;base64,{0}\" type=\"video/mp4\">\n",
    " Your browser does not support the video tag.\n",
    "</video>\"\"\"\n",
    "\n",
    "def anim_to_html(anim):\n",
    "    if not hasattr(anim, '_encoded_video'):\n",
    "        with NamedTemporaryFile(suffix='.mp4') as f:\n",
    "            anim.save(f.name, fps=20, extra_args=['-vcodec', 'libx264'])\n",
    "            video = open(f.name, \"rb\").read()\n",
    "        anim._encoded_video = video.encode(\"base64\")\n",
    "    \n",
    "    return VIDEO_TAG.format(anim._encoded_video)"
   ]
  },
  {
   "cell_type": "code",
   "execution_count": null,
   "metadata": {},
   "outputs": [],
   "source": [
    "def display_animation(anim):\n",
    "    plt.close(anim._fig)\n",
    "    return HTML(anim_to_html(anim))"
   ]
  },
  {
   "cell_type": "markdown",
   "metadata": {},
   "source": [
    "# Coin"
   ]
  },
  {
   "cell_type": "code",
   "execution_count": null,
   "metadata": {},
   "outputs": [],
   "source": [
    "from edward.models import Bernoulli, Beta, Empirical, Uniform # import distributions"
   ]
  },
  {
   "cell_type": "code",
   "execution_count": null,
   "metadata": {},
   "outputs": [],
   "source": [
    "N = 100  # sample size"
   ]
  },
  {
   "cell_type": "code",
   "execution_count": null,
   "metadata": {},
   "outputs": [],
   "source": [
    "def build_fair_dataset(N): # the results of 100 flips for a fair coin \n",
    "    pheads = tf.constant(0.5)\n",
    "    c = Bernoulli(probs=pheads, sample_shape=N)\n",
    "    return sess.run([pheads, c])"
   ]
  },
  {
   "cell_type": "code",
   "execution_count": null,
   "metadata": {},
   "outputs": [],
   "source": [
    "def build_unfair_dataset(N): # the results of 100 flips for an unfair coin \n",
    "    pheads = tf.constant(0.05)\n",
    "    c = Bernoulli(probs=pheads, sample_shape=N)\n",
    "    return sess.run([pheads, c])"
   ]
  },
  {
   "cell_type": "code",
   "execution_count": null,
   "metadata": {},
   "outputs": [],
   "source": [
    "def build_dataset(N):\n",
    "    pheads = Uniform(low=0.0, high=1.0)    # get a random probability of getting heads\n",
    "    c = Bernoulli(probs=pheads, sample_shape=N)  # get a sample with the probability of getting heads = pheads\n",
    "    return sess.run([pheads, c])"
   ]
  },
  {
   "cell_type": "code",
   "execution_count": null,
   "metadata": {},
   "outputs": [],
   "source": [
    "# DATA\n",
    "pheads_true, c_train = build_fair_dataset(N)"
   ]
  },
  {
   "cell_type": "code",
   "execution_count": null,
   "metadata": {},
   "outputs": [],
   "source": [
    "pheads_true"
   ]
  },
  {
   "cell_type": "code",
   "execution_count": null,
   "metadata": {},
   "outputs": [],
   "source": [
    "c_train"
   ]
  },
  {
   "cell_type": "code",
   "execution_count": null,
   "metadata": {},
   "outputs": [],
   "source": [
    "sum(c_train == 0)"
   ]
  },
  {
   "cell_type": "code",
   "execution_count": null,
   "metadata": {},
   "outputs": [],
   "source": [
    "sum(c_train == 1)"
   ]
  },
  {
   "cell_type": "code",
   "execution_count": null,
   "metadata": {},
   "outputs": [],
   "source": [
    "pheads_fair = Beta(concentration1=1000.0, concentration0=1000.0)  # blue\n",
    "pheads_unfair = Beta(concentration1=0.1, concentration0=0.1)  # green\n",
    "pheads_unknown = Beta(concentration1=1.0, concentration0=1.0)  # red"
   ]
  },
  {
   "cell_type": "code",
   "execution_count": null,
   "metadata": {},
   "outputs": [],
   "source": [
    "x = tf.range(0.0, 1.0, 0.001)\n",
    "plt.plot(*sess.run([x, pheads_fair.prob(x)]));\n",
    "plt.plot(*sess.run([x, pheads_unfair.prob(x)]));\n",
    "plt.plot(*sess.run([x, pheads_unknown.prob(x)]));\n",
    "plt.axvline(x=pheads_true);"
   ]
  },
  {
   "cell_type": "code",
   "execution_count": null,
   "metadata": {},
   "outputs": [],
   "source": [
    "# FORWARD MODEL\n",
    "pheads = pheads_unknown\n",
    "c = Bernoulli(probs=pheads, sample_shape=N)"
   ]
  },
  {
   "cell_type": "markdown",
   "metadata": {},
   "source": [
    "#### Exact Solution"
   ]
  },
  {
   "cell_type": "code",
   "execution_count": null,
   "metadata": {},
   "outputs": [],
   "source": [
    "# INFERENCE\n",
    "pheads_cond = ed.complete_conditional(pheads)\n",
    "## inferences/conjugacy.py\n",
    "##pheads_cond = pheads\n",
    "\n",
    "## /anaconda3/lib/python3.7/site-packages/edward/util/random_variables.py\n",
    "## line 234\n",
    "pheads_post = ed.copy(pheads_cond, {c: c_train})"
   ]
  },
  {
   "cell_type": "code",
   "execution_count": null,
   "metadata": {
    "scrolled": true
   },
   "outputs": [],
   "source": [
    "help(ed.complete_conditional)"
   ]
  },
  {
   "cell_type": "code",
   "execution_count": null,
   "metadata": {},
   "outputs": [],
   "source": [
    "sess.run({key: val for\n",
    "          key, val in six.iteritems(pheads_post.parameters)\n",
    "          if isinstance(val, tf.Tensor)})"
   ]
  },
  {
   "cell_type": "code",
   "execution_count": null,
   "metadata": {},
   "outputs": [],
   "source": [
    "# CRITICISM\n",
    "mean, stddev = sess.run([pheads_post.mean(), pheads_post.stddev()])\n",
    "print(\"Exact posterior mean:\")\n",
    "print(mean)\n",
    "print(\"Exact posterior std:\")\n",
    "print(stddev)"
   ]
  },
  {
   "cell_type": "code",
   "execution_count": null,
   "metadata": {},
   "outputs": [],
   "source": [
    "x = tf.range(0.0, 1.0, 0.001)\n",
    "plt.plot(*sess.run([x, pheads.prob(x)]));  # blue\n",
    "plt.plot(*sess.run([x, pheads_post.prob(x)]));  # green\n",
    "plt.axvline(x=pheads_true);  # blue"
   ]
  },
  {
   "cell_type": "code",
   "execution_count": null,
   "metadata": {},
   "outputs": [],
   "source": [
    "# this can take a minute\n",
    "fig = plt.figure()\n",
    "ax = plt.axes(xlim=(-0.05, 1.05), ylim=(-1.0, 11.0))\n",
    "\n",
    "def go(pheads_prior, sample_shape, c_train):\n",
    "    # MODEL\n",
    "    c = Bernoulli(probs=pheads_prior,\n",
    "                  sample_shape=sample_shape)\n",
    "    # INFERENCE\n",
    "    pheads_cond = ed.complete_conditional(pheads_prior)\n",
    "    pheads_post = ed.copy(pheads_cond, {c: c_train[:sample_shape]})\n",
    "    \n",
    "    # CRITICISM\n",
    "    ax.plot(*sess.run([x, pheads_post.prob(x)]));\n",
    "    \n",
    "    # RECURSION\n",
    "    if len(c_train[sample_shape:]) >= sample_shape:\n",
    "        go(pheads_post, sample_shape, c_train[sample_shape:])\n",
    "\n",
    "pheads_prior = Beta(concentration1=1.0, concentration0=1.0)\n",
    "ax.plot(*sess.run([x, pheads_prior.prob(x)]));  # blue\n",
    "plt.axvline(x=pheads_true);  # blue\n",
    "go(pheads_prior, 33, c_train)"
   ]
  },
  {
   "cell_type": "markdown",
   "metadata": {},
   "source": [
    "#### MCMC: Metropolis Hastings"
   ]
  },
  {
   "cell_type": "code",
   "execution_count": null,
   "metadata": {},
   "outputs": [],
   "source": [
    "# BACKWARD MODEL\n",
    "T = 10000  # number of empirical samples\n",
    "q_pheads = Empirical(params=tf.Variable(tf.ones([T])*.5))"
   ]
  },
  {
   "cell_type": "code",
   "execution_count": null,
   "metadata": {},
   "outputs": [],
   "source": [
    "# INFERENCE\n",
    "proposal_pheads = Beta(concentration1=1.0,\n",
    "                       concentration0=1.0)\n",
    "inference = ed.MetropolisHastings(latent_vars={pheads: q_pheads},\n",
    "                                  proposal_vars={pheads: proposal_pheads},\n",
    "                                  data={c: c_train})\n",
    "inference.run()"
   ]
  },
  {
   "cell_type": "code",
   "execution_count": null,
   "metadata": {},
   "outputs": [],
   "source": [
    "# CRITICISM\n",
    "mean, stddev = sess.run([q_pheads.mean(), q_pheads.stddev()])\n",
    "print(\"Inferred posterior mean:\")\n",
    "print(mean)\n",
    "print(\"Inferred posterior std:\")\n",
    "print(stddev)"
   ]
  },
  {
   "cell_type": "code",
   "execution_count": null,
   "metadata": {},
   "outputs": [],
   "source": [
    "plt.plot(q_pheads.params.eval());\n",
    "plt.axhline(y=pheads_true);"
   ]
  },
  {
   "cell_type": "code",
   "execution_count": null,
   "metadata": {},
   "outputs": [],
   "source": [
    "def lags(x):\n",
    "    mean = tf.reduce_mean(x)\n",
    "    var = tf.cast(tf.size(x) - 1, tf.float32) * tf.reduce_mean(tf.square(x - mean))\n",
    "    ret = tf.map_fn(lambda k: tf.cond(tf.equal(k, 0),\n",
    "                                      lambda: var,\n",
    "                                      lambda: tf.reduce_sum((x[:-k] - mean) * (x[k:] - mean))),\n",
    "                    tf.range(0, tf.size(x)),\n",
    "                    dtype=tf.float32)\n",
    "    return ret / var"
   ]
  },
  {
   "cell_type": "code",
   "execution_count": null,
   "metadata": {},
   "outputs": [],
   "source": [
    "plt.plot(lags(q_pheads.params).eval());"
   ]
  },
  {
   "cell_type": "code",
   "execution_count": null,
   "metadata": {},
   "outputs": [],
   "source": [
    "x = tf.range(0.0, 1.0, 0.001)\n",
    "plt.plot(*sess.run([x, pheads.prob(x)]));  # blue\n",
    "plt.plot(*sess.run([x, pheads_cond.prob(x)],  # green\n",
    "                   {c: c_train}));\n",
    "plt.hist(q_pheads.params.eval(),  # red\n",
    "         bins=100, range=(0.0, 1.0),\n",
    "         normed=True);\n",
    "plt.axvline(x=pheads_true);  # blue"
   ]
  },
  {
   "cell_type": "markdown",
   "metadata": {},
   "source": [
    "#### Variational Inference (VI)"
   ]
  },
  {
   "cell_type": "code",
   "execution_count": null,
   "metadata": {},
   "outputs": [],
   "source": [
    "# BACKWARD MODEL\n",
    "q_pheads_concentration1 = tf.nn.softplus(tf.Variable(tf.random_normal([])))\n",
    "# q_pheads_concentration1 = tf.nn.softplus(tf.Variable(51 + tf.random_normal([])))\n",
    "q_pheads_concentration0 = tf.nn.softplus(tf.Variable(tf.random_normal([])))\n",
    "# q_pheads_concentration0 = tf.nn.softplus(tf.Variable(51 + tf.random_normal([])))\n",
    "q_pheads = Beta(concentration1=q_pheads_concentration1,\n",
    "                concentration0=q_pheads_concentration0)"
   ]
  },
  {
   "cell_type": "code",
   "execution_count": null,
   "metadata": {},
   "outputs": [],
   "source": [
    "x = tf.range(-5.0, 5.0, 0.001)\n",
    "plt.plot(*sess.run([x, tf.nn.softplus(x)]));"
   ]
  },
  {
   "cell_type": "code",
   "execution_count": null,
   "metadata": {},
   "outputs": [],
   "source": [
    "# T = 10000  # number of empirical samples\n",
    "# q_pheads_samples = sess.run(q_pheads.sample(sample_shape=T))"
   ]
  },
  {
   "cell_type": "code",
   "execution_count": null,
   "metadata": {},
   "outputs": [],
   "source": [
    "# plt.plot(q_pheads_samples);\n",
    "# plt.axhline(y=pheads_true);"
   ]
  },
  {
   "cell_type": "code",
   "execution_count": null,
   "metadata": {},
   "outputs": [],
   "source": [
    "sess.run({key: val for\n",
    "          key, val in six.iteritems(q_pheads.parameters)\n",
    "          if isinstance(val, tf.Tensor)})"
   ]
  },
  {
   "cell_type": "code",
   "execution_count": null,
   "metadata": {},
   "outputs": [],
   "source": [
    "plt.plot(*sess.run([x, pheads.prob(x)]));  # blue\n",
    "plt.plot(*sess.run([x, pheads_cond.prob(x)],  # green\n",
    "                   {c: c_train}));\n",
    "plt.plot(*sess.run([x, q_pheads.prob(x)]));  # red\n",
    "# plt.hist(q_pheads_samples,  # red\n",
    "#          bins=100, range=(0.0, 1.0),\n",
    "#          normed=True);\n",
    "plt.axvline(x=pheads_true);  # blue"
   ]
  },
  {
   "cell_type": "code",
   "execution_count": null,
   "metadata": {},
   "outputs": [],
   "source": [
    "# CRITICISM\n",
    "mean, stddev = sess.run([q_pheads.mean(), q_pheads.stddev()])\n",
    "print(\"Inferred posterior mean:\")\n",
    "print(mean)\n",
    "print(\"Inferred posterior std:\")\n",
    "print(stddev)"
   ]
  }
 ],
 "metadata": {
  "kernelspec": {
   "display_name": "Python 3",
   "language": "python",
   "name": "python3"
  },
  "language_info": {
   "codemirror_mode": {
    "name": "ipython",
    "version": 3
   },
   "file_extension": ".py",
   "mimetype": "text/x-python",
   "name": "python",
   "nbconvert_exporter": "python",
   "pygments_lexer": "ipython3",
   "version": "3.7.4"
  }
 },
 "nbformat": 4,
 "nbformat_minor": 2
}
